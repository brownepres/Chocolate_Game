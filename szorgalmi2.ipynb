{
 "cells": [
  {
   "cell_type": "code",
   "execution_count": 48,
   "id": "5ace13ac",
   "metadata": {},
   "outputs": [],
   "source": [
    "import pandas as pd\n",
    "import numpy as np\n",
    "import random\n",
    "\n",
    "from copy import deepcopy"
   ]
  },
  {
   "cell_type": "code",
   "execution_count": 222,
   "id": "29fecc22",
   "metadata": {},
   "outputs": [
    {
     "name": "stdout",
     "output_type": "stream",
     "text": [
      "{0: {}, 1: {0: 0.5}, 3: {0: 0.5}, 7: {0: 0.5, 1: 0.5}, 15: {0: 0.5, 4: 0.5, 5: 0.5, 7: 0.5}, 31: {0: 0.5, 4: 0.5, 13: 0.5, 15: 0.5, 7: 0.5, 11: 0.5}, 63: {0: 0.5, 4: 0.5, 13: 0.5, 31: 0.5, 7: 0.5, 11: 0.5, 19: 0.5}, 127: {0: 0.5, 36: 0.5, 45: 0.5, 63: 0.5, 7: 0.5, 43: 0.5, 51: 0.5, 67: 0.5}, 255: {0: 0.5, 36: 0.5, 109: 0.5, 127: 0.5, 7: 0.5, 43: 0.5, 115: 0.5, 131: 0.5, 67: 0.5, 99: 0.5}, 511: {0: 0.5, 36: 0.5, 109: 0.5, 255: 0.5, 7: 0.5, 43: 0.5, 115: 0.5, 259: 0.5, 67: 0.5, 99: 0.5, 163: 0.5}, 1023: {0: 0.5, 36: 0.5, 109: 0.5, 255: 0.5, 7: 0.5, 43: 0.5, 115: 0.5, 259: 0.5, 67: 0.5, 99: 0.5, 163: 0.5, 291: 0.5}}\n"
     ]
    }
   ],
   "source": [
    "csoki = [[1, 1, 1, 1],\n",
    "         [1, 1, 1, 1],\n",
    "         [1, 1, 1, 1]]\n",
    "\n",
    "def csoki_check(csoki):\n",
    "    for i in range(3):\n",
    "        for j in range(4):\n",
    "            if csoki[i][j] == 1 and ((j > 0 and csoki[i][j-1] == 0) \\\n",
    "            or (i>0 and csoki[i-1][j] == 0)):\n",
    "                return False\n",
    "    return True    \n",
    "\n",
    "\n",
    "def n_to_csoki(n):\n",
    "    csoki = [[1, 0, 0, 0],\n",
    "             [0, 0, 0, 0],\n",
    "             [0, 0, 0, 0]]\n",
    "    \n",
    "    for i in range(3):\n",
    "        for j in range(4):\n",
    "            csoki[i][j] = (n >> (i*3+j)) % 2\n",
    "    return csoki\n",
    "\n",
    "def csoki_to_n(csoki):\n",
    "    n = 0\n",
    "    for i in range(3):\n",
    "        for j in range(4):\n",
    "            if not (i == 0 and j == 0):\n",
    "                n = n + csoki[i][j]*(2**(i*3+j-1))\n",
    "    return n\n",
    "\n",
    "def lepes(csoki, lepes_i, lepes_j):\n",
    "    csoki2 = deepcopy(csoki)\n",
    "    for i in range(3):\n",
    "        if i < lepes_i:\n",
    "            pass\n",
    "        else: \n",
    "            for j in range(4):\n",
    "                if j < lepes_j:\n",
    "                    pass\n",
    "                else:\n",
    "                    csoki2[i][j] = 0\n",
    "    return csoki2\n",
    "            \n",
    "    \n",
    "csoki_dict = {}\n",
    "for n in range(0, 2**10):\n",
    "    csoki = n_to_csoki(n)            \n",
    "    if csoki_check(csoki):\n",
    "        csoki_dict[n] = {}\n",
    "        for i in range(3):\n",
    "            for j in range(4):\n",
    "                if csoki[i][j] == 1:\n",
    "                    csoki2 = lepes(csoki, i, j)\n",
    "                    n2 = csoki_to_n(csoki2)\n",
    "                    csoki_dict[n][n2] = 0.5\n",
    "                                                            \n",
    "        \n",
    "print(csoki_dict)"
   ]
  },
  {
   "cell_type": "code",
   "execution_count": 145,
   "id": "a9f0cba5",
   "metadata": {},
   "outputs": [
    {
     "name": "stdout",
     "output_type": "stream",
     "text": [
      "[[1, 1, 1, 0], [0, 0, 0, 0], [0, 0, 0, 0]]\n"
     ]
    }
   ],
   "source": [
    "n = 511\n",
    "valasztott = random.choices(list(csoki_dict[n].keys()),\n",
    "                                  weights=[i for i in csoki_dict[n].values()],\n",
    "                                      k=1)\n",
    "print(n_to_csoki(valasztott[0]))\n",
    "        "
   ]
  },
  {
   "cell_type": "code",
   "execution_count": 221,
   "id": "6c68ea98",
   "metadata": {},
   "outputs": [
    {
     "name": "stdout",
     "output_type": "stream",
     "text": [
      "[[1, 1, 0, 0], [0, 0, 1, 0], [0, 1, 0, 0]] [163]\n",
      "[[1, 1, 0, 1], [1, 0, 1, 0], [0, 0, 0, 0]] [43]\n",
      "[[0, 0, 0, 0], [0, 0, 0, 0], [0, 0, 0, 0]] [0]\n",
      "game over\n"
     ]
    }
   ],
   "source": [
    "for i in range(1):\n",
    "    paros_lepes = []\n",
    "    ptl_lepes = []\n",
    "    lepes_counter = 0\n",
    "    for i in range(12):\n",
    "        lepes_counter += 1\n",
    "        lepes = 1023\n",
    "        kovetkezo = random.choices(list(csoki_dict[lepes].keys()),\n",
    "                                  weights=[i for i in csoki_dict[lepes].values()],\n",
    "                                      k=1)\n",
    "        kovetkezo_csoki = n_to_csoki(kovetkezo[0])\n",
    "        print(kovetkezo_csoki, kovetkezo)\n",
    "        lepes = kovetkezo\n",
    "        if kovetkezo[0] == 0:\n",
    "            print(\"game over\")\n",
    "            break"
   ]
  },
  {
   "cell_type": "code",
   "execution_count": 220,
   "id": "728c76d5",
   "metadata": {},
   "outputs": [
    {
     "name": "stdout",
     "output_type": "stream",
     "text": [
      "[1, 1, 0, 0]\n",
      "[0, 0, 0, 0]\n",
      "[0, 0, 0, 0]\n"
     ]
    }
   ],
   "source": [
    "csoki = n_to_csoki(3)\n",
    "for i in csoki:\n",
    "    print(i)"
   ]
  },
  {
   "cell_type": "code",
   "execution_count": null,
   "id": "1399a04d",
   "metadata": {},
   "outputs": [],
   "source": []
  }
 ],
 "metadata": {
  "kernelspec": {
   "display_name": "Python 3 (ipykernel)",
   "language": "python",
   "name": "python3"
  },
  "language_info": {
   "codemirror_mode": {
    "name": "ipython",
    "version": 3
   },
   "file_extension": ".py",
   "mimetype": "text/x-python",
   "name": "python",
   "nbconvert_exporter": "python",
   "pygments_lexer": "ipython3",
   "version": "3.9.0"
  }
 },
 "nbformat": 4,
 "nbformat_minor": 5
}
