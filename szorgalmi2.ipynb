{
 "cells": [
  {
   "cell_type": "code",
   "execution_count": 48,
   "id": "6df6cf74",
   "metadata": {},
   "outputs": [],
   "source": [
    "import pandas as pd\n",
    "import numpy as np\n",
    "import random\n",
    "\n",
    "from copy import deepcopy"
   ]
  },
  {
   "cell_type": "code",
   "execution_count": 498,
   "id": "e75af28d",
   "metadata": {},
   "outputs": [
    {
     "name": "stdout",
     "output_type": "stream",
     "text": [
      "dict_keys([0, 1, 3, 7, 15, 17, 19, 23, 31, 51, 55, 63, 119, 127, 255, 273, 275, 279, 287, 307, 311, 319, 375, 383, 511, 819, 823, 831, 887, 895, 1023, 1911, 1919, 2047, 4095])\n"
     ]
    }
   ],
   "source": [
    "csoki = [[1, 1, 1, 1],\n",
    "         [1, 1, 1, 1],\n",
    "         [1, 1, 1, 1]]\n",
    "\n",
    "def csoki_check(csoki):\n",
    "    for i in range(3):\n",
    "        for j in range(4):\n",
    "            if csoki[i][j] == 1 and ((j > 0 and csoki[i][j-1] == 0) \\\n",
    "            or (i>0 and csoki[i-1][j] == 0)):\n",
    "                return False\n",
    "    return True    \n",
    "\n",
    "\n",
    "def n_to_csoki(n):\n",
    "    csoki = [[0, 0, 0, 0],\n",
    "             [0, 0, 0, 0],\n",
    "             [0, 0, 0, 0]]\n",
    "    \n",
    "    for i in range(3):\n",
    "        for j in range(4):\n",
    "            csoki[i][j] = (n >> (i*4+j)) % 2\n",
    "    return csoki\n",
    "\n",
    "def csoki_to_n(csoki):\n",
    "    n = 0\n",
    "    for i in range(3):\n",
    "        for j in range(4):\n",
    "            n += csoki[i][j] * (2**(i*4+j))\n",
    "    return n\n",
    "\n",
    "def lepes(csoki, lepes_i, lepes_j):\n",
    "    csoki2 = deepcopy(csoki)\n",
    "    for i in range(3):\n",
    "        if i < lepes_i:\n",
    "            pass\n",
    "        else: \n",
    "            for j in range(4):\n",
    "                if j < lepes_j:\n",
    "                    pass\n",
    "                else:\n",
    "                    csoki2[i][j] = 0\n",
    "    return csoki2\n",
    "            \n",
    "    \n",
    "csoki_dict = {}\n",
    "for n in range(0, 2**12):\n",
    "    csoki = n_to_csoki(n)            \n",
    "    if csoki_check(csoki):\n",
    "        csoki_dict[n] = {}\n",
    "        for i in range(3):\n",
    "            for j in range(4):\n",
    "                if csoki[i][j] == 1:\n",
    "                    csoki2 = lepes(csoki, i, j)\n",
    "                    n2 = csoki_to_n(csoki2)\n",
    "                    csoki_dict[n][n2] = 0.5\n",
    "                                                            \n",
    "        \n",
    "print(csoki_dict.keys())\n",
    "csoki_dict[4095][0] = 0.0 #a kezdő pozícióból való azonnali vesztést egyszerűbb így kezelni"
   ]
  },
  {
   "cell_type": "code",
   "execution_count": 499,
   "id": "531c2c07",
   "metadata": {},
   "outputs": [
    {
     "name": "stdout",
     "output_type": "stream",
     "text": [
      "{0: {}, 1: {0: 0.20999999999999974}, 3: {0: 0.3799999999999999, 1: 0.6600000000000001}, 7: {0: 0.45999999999999996, 1: 0.6000000000000001, 3: 0.54}, 15: {0: 0.44999999999999996, 1: 0.6000000000000001, 3: 0.51, 7: 0.5}, 17: {0: 0.3999999999999999, 1: 0.6700000000000002}, 19: {0: 0.47, 17: 0.49, 3: 0.5}, 23: {0: 0.5, 17: 0.5, 19: 0.51, 7: 0.5}, 31: {0: 0.49, 17: 0.53, 19: 0.52, 23: 0.49, 15: 0.52}, 51: {0: 0.5, 17: 0.51, 3: 0.5, 19: 0.52}, 55: {0: 0.5, 17: 0.5, 51: 0.5, 7: 0.5, 23: 0.5}, 63: {0: 0.5, 17: 0.5, 51: 0.5, 55: 0.49, 15: 0.47, 31: 0.51}, 119: {0: 0.5, 17: 0.48, 51: 0.51, 7: 0.5, 23: 0.5, 55: 0.5}, 127: {0: 0.5, 17: 0.5, 51: 0.49, 119: 0.5, 15: 0.49, 31: 0.5, 63: 0.51}, 255: {0: 0.45999999999999996, 17: 0.47, 51: 0.51, 119: 0.5, 15: 0.51, 31: 0.52, 63: 0.52, 127: 0.52}, 273: {0: 0.42999999999999994, 1: 0.6400000000000001, 17: 0.53}, 275: {0: 0.48, 273: 0.49, 3: 0.51, 19: 0.51}, 279: {0: 0.49, 273: 0.48, 275: 0.51, 7: 0.49, 23: 0.5}, 287: {0: 0.48, 273: 0.55, 275: 0.54, 279: 0.5, 15: 0.47, 31: 0.45999999999999996}, 307: {0: 0.49, 273: 0.49, 3: 0.51, 275: 0.48, 51: 0.5}, 311: {0: 0.5, 273: 0.5, 307: 0.51, 7: 0.49, 279: 0.5, 55: 0.5}, 319: {0: 0.5, 273: 0.5, 307: 0.51, 311: 0.5, 15: 0.5, 287: 0.49, 63: 0.5}, 375: {0: 0.5, 273: 0.49, 307: 0.5, 7: 0.49, 279: 0.5, 311: 0.49, 119: 0.52}, 383: {0: 0.5, 273: 0.5, 307: 0.51, 375: 0.5, 15: 0.49, 287: 0.5, 319: 0.51, 127: 0.5}, 511: {0: 0.48, 273: 0.5, 307: 0.5, 375: 0.52, 15: 0.51, 287: 0.5, 319: 0.52, 383: 0.51, 255: 0.5}, 819: {0: 0.44999999999999996, 273: 0.54, 3: 0.49, 275: 0.5, 51: 0.47, 307: 0.51}, 823: {0: 0.5, 273: 0.5, 819: 0.48, 7: 0.5, 279: 0.5, 55: 0.51, 311: 0.51}, 831: {0: 0.45999999999999996, 273: 0.53, 819: 0.53, 823: 0.51, 15: 0.53, 287: 0.5, 63: 0.51, 319: 0.49}, 887: {0: 0.49, 273: 0.5, 819: 0.5, 7: 0.49, 279: 0.51, 823: 0.51, 119: 0.49, 375: 0.5}, 895: {0: 0.5, 273: 0.48, 819: 0.5, 887: 0.5, 15: 0.5, 287: 0.49, 831: 0.5, 127: 0.49, 383: 0.49}, 1023: {0: 0.49, 273: 0.48, 819: 0.51, 887: 0.51, 15: 0.52, 287: 0.52, 831: 0.5, 895: 0.53, 255: 0.5, 511: 0.49}, 1911: {0: 0.49, 273: 0.49, 819: 0.5, 7: 0.49, 279: 0.54, 823: 0.49, 119: 0.52, 375: 0.49, 887: 0.51}, 1919: {0: 0.48, 273: 0.49, 819: 0.5, 1911: 0.5, 15: 0.49, 287: 0.51, 831: 0.51, 127: 0.52, 383: 0.49, 895: 0.52}, 2047: {0: 0.48, 273: 0.5, 819: 0.51, 1911: 0.5, 15: 0.5, 287: 0.5, 831: 0.49, 1919: 0.48, 255: 0.51, 511: 0.49, 1023: 0.5}, 4095: {0: 0.0, 273: 0.47, 819: 0.55, 1911: 0.49, 15: 0.49, 287: 0.53, 831: 0.43999999999999995, 1919: 0.51, 255: 0.49, 511: 0.48, 1023: 0.44999999999999996, 2047: 0.54}}\n",
      "[[1, 0, 0, 0], [0, 0, 0, 0], [0, 0, 0, 0]]\n"
     ]
    }
   ],
   "source": [
    "for i in range(204):\n",
    "    paros_lepes = []\n",
    "    ptl_lepes = []\n",
    "    lepes_counter = 0\n",
    "    lepes = 4095\n",
    "    for i in range(12):\n",
    "        lepes_counter += 1\n",
    "        \n",
    "        # Check if there are any valid options available\n",
    "        if csoki_dict[lepes]:  # If the dictionary is not empty\n",
    "            kovetkezo = random.choices(list(csoki_dict[lepes].keys()),\n",
    "                                        weights=[i for i in csoki_dict[lepes].values()],\n",
    "                                        k=1)\n",
    "        else:  # If there are no valid options left, end the game\n",
    "            kovetkezo = [0]\n",
    "        \n",
    "        \n",
    "        if lepes_counter % 2 == 0: #páros lépés kezd, páros lépésszámnál a páratlan nyer\n",
    "            paros_lepes.append(lepes)\n",
    "        elif lepes_counter % 2 == 1:\n",
    "            ptl_lepes.append(lepes)\n",
    "        \n",
    "        if kovetkezo[0] == 0:\n",
    "            #print(\"game over\")\n",
    "            if lepes_counter % 2 == 0:\n",
    "                ptl_lepes.append(0)\n",
    "            elif lepes_counter % 2 == 1:\n",
    "                paros_lepes.append(0)\n",
    "            break\n",
    "        lepes = kovetkezo[0]\n",
    "        \n",
    "    #print(ptl_lepes, paros_lepes, lepes_counter)\n",
    "    #tanulás (valószínűségek megváltoztatása)\n",
    "    if lepes_counter % 2 == 0: #páros nyer, ptl_lepes hosszabb eggyel\n",
    "        for i in range(len(paros_lepes)):\n",
    "            csoki_dict[ptl_lepes[i]][paros_lepes[i]] = max(0, min(1, csoki_dict[ptl_lepes[i]][paros_lepes[i]] + 0.01))\n",
    "            csoki_dict[paros_lepes[i]][ptl_lepes[i+1]] = max(0, min(1, csoki_dict[paros_lepes[i]][ptl_lepes[i+1]] - 0.01))\n",
    "            if i+1 == len(ptl_lepes):\n",
    "                break\n",
    "    elif lepes_counter % 2 == 1: #ptl nyer\n",
    "        for i in range(len(ptl_lepes)):\n",
    "            if i == len(ptl_lepes)-1:\n",
    "                break\n",
    "            csoki_dict[ptl_lepes[i]][paros_lepes[i]] = max(0, min(1, csoki_dict[ptl_lepes[i]][paros_lepes[i]] - 0.01))\n",
    "            csoki_dict[paros_lepes[i]][ptl_lepes[i+1]] = max(0, min(1, csoki_dict[paros_lepes[i]][ptl_lepes[i+1]] + 0.01))\n",
    " \n",
    "print(csoki_dict)\n",
    "#ez a csoki_dict megmutatja, hogy melyik lehetséges állások után melyik lehetséges állások jönnek\n",
    "#pl 3-as állás után lehet a 0, 1 állás, és ezekhez társít valószínűséget is, hogy n szimuláció után\n",
    "#mekkora valószínűséggel kéne a 0 vagy az 1-es állásba lépnie. AZ, hogy vizálisan mit jelent az 0, 1, 3-as\n",
    "#vagy bármelyik állás, azt a n_to_csoki(k)-val lehet megnézni, pl\n",
    "print(n_to_csoki(1)) #győztes állás\n",
    "\n",
    "#nincs még teljesen optimalizálva, kb 200 lépés kell ahhoz, hogy megmondja az optimális megoldást\n",
    "#az optimális megoldás pedig egy fa bejárással megkapható ha a n_to_csoki(4095)-ös állásból indulva\n",
    "#vesszük mindig a legnagyobb valószínűséggel következő állást"
   ]
  },
  {
   "cell_type": "code",
   "execution_count": 494,
   "id": "41ef846d",
   "metadata": {},
   "outputs": [
    {
     "ename": "TypeError",
     "evalue": "'>' not supported between instances of 'dict' and 'dict'",
     "output_type": "error",
     "traceback": [
      "\u001b[1;31m---------------------------------------------------------------------------\u001b[0m",
      "\u001b[1;31mTypeError\u001b[0m                                 Traceback (most recent call last)",
      "Cell \u001b[1;32mIn [494], line 1\u001b[0m\n\u001b[1;32m----> 1\u001b[0m \u001b[38;5;28;43mmax\u001b[39;49m\u001b[43m(\u001b[49m\u001b[43mcsoki_dict\u001b[49m\u001b[43m,\u001b[49m\u001b[43m \u001b[49m\u001b[43mkey\u001b[49m\u001b[38;5;241;43m=\u001b[39;49m\u001b[43mcsoki_dict\u001b[49m\u001b[38;5;241;43m.\u001b[39;49m\u001b[43mget\u001b[49m\u001b[43m)\u001b[49m\n\u001b[0;32m      2\u001b[0m csoki_dict[\u001b[38;5;241m4095\u001b[39m][\u001b[38;5;241m2047\u001b[39m]\n",
      "\u001b[1;31mTypeError\u001b[0m: '>' not supported between instances of 'dict' and 'dict'"
     ]
    }
   ],
   "source": []
  },
  {
   "cell_type": "code",
   "execution_count": 439,
   "id": "437400d5",
   "metadata": {},
   "outputs": [
    {
     "name": "stdout",
     "output_type": "stream",
     "text": [
      "Gép lépése:\n",
      "[1, 0, 0, 0]\n",
      "[1, 0, 0, 0]\n",
      "[1, 0, 0, 0]\n",
      "Add meg a következő lépést: 10\n"
     ]
    },
    {
     "ename": "KeyError",
     "evalue": "10",
     "output_type": "error",
     "traceback": [
      "\u001b[1;31m---------------------------------------------------------------------------\u001b[0m",
      "\u001b[1;31mKeyError\u001b[0m                                  Traceback (most recent call last)",
      "Cell \u001b[1;32mIn [439], line 13\u001b[0m\n\u001b[0;32m     10\u001b[0m     \u001b[38;5;28mprint\u001b[39m(i)\n\u001b[0;32m     12\u001b[0m lepes \u001b[38;5;241m=\u001b[39m \u001b[38;5;28mint\u001b[39m(\u001b[38;5;28minput\u001b[39m(\u001b[38;5;124m\"\u001b[39m\u001b[38;5;124mAdd meg a következő lépést: \u001b[39m\u001b[38;5;124m\"\u001b[39m))\n\u001b[1;32m---> 13\u001b[0m kovetkezo \u001b[38;5;241m=\u001b[39m random\u001b[38;5;241m.\u001b[39mchoices(\u001b[38;5;28mlist\u001b[39m(\u001b[43mcsoki_dict\u001b[49m\u001b[43m[\u001b[49m\u001b[43mlepes\u001b[49m\u001b[43m]\u001b[49m\u001b[38;5;241m.\u001b[39mkeys()),\n\u001b[0;32m     14\u001b[0m                                     weights\u001b[38;5;241m=\u001b[39m[i \u001b[38;5;28;01mfor\u001b[39;00m i \u001b[38;5;129;01min\u001b[39;00m csoki_dict[lepes]\u001b[38;5;241m.\u001b[39mvalues()],\n\u001b[0;32m     15\u001b[0m                                     k\u001b[38;5;241m=\u001b[39m\u001b[38;5;241m1\u001b[39m)\n\u001b[0;32m     16\u001b[0m kovetkezo_csoki \u001b[38;5;241m=\u001b[39m n_to_csoki(kovetkezo[\u001b[38;5;241m0\u001b[39m])\n\u001b[0;32m     17\u001b[0m \u001b[38;5;28;01mfor\u001b[39;00m i \u001b[38;5;129;01min\u001b[39;00m kovetkezo_csoki:\n",
      "\u001b[1;31mKeyError\u001b[0m: 10"
     ]
    }
   ],
   "source": [
    "#játék a gép ellen\n",
    "#fejlesztés alatt még a bináris konverzió miatt\n",
    "for i in range(12):\n",
    "    lepes = 4095\n",
    "    kovetkezo = random.choices(list(csoki_dict[lepes].keys()),\n",
    "                                        weights=[i for i in csoki_dict[lepes].values()],\n",
    "                                        k=1)\n",
    "    kovetkezo_csoki = n_to_csoki(kovetkezo[0])\n",
    "    print(\"Gép lépése:\")\n",
    "    for i in kovetkezo_csoki:\n",
    "        print(i)\n",
    "    \n",
    "    lepes = int(input(\"Add meg a következő lépést: \"))\n",
    "    kovetkezo = random.choices(list(csoki_dict[lepes].keys()),\n",
    "                                        weights=[i for i in csoki_dict[lepes].values()],\n",
    "                                        k=1)\n",
    "    kovetkezo_csoki = n_to_csoki(kovetkezo[0])\n",
    "    for i in kovetkezo_csoki:\n",
    "        print(i)\n",
    "    break"
   ]
  }
 ],
 "metadata": {
  "kernelspec": {
   "display_name": "Python 3 (ipykernel)",
   "language": "python",
   "name": "python3"
  },
  "language_info": {
   "codemirror_mode": {
    "name": "ipython",
    "version": 3
   },
   "file_extension": ".py",
   "mimetype": "text/x-python",
   "name": "python",
   "nbconvert_exporter": "python",
   "pygments_lexer": "ipython3",
   "version": "3.9.0"
  }
 },
 "nbformat": 4,
 "nbformat_minor": 5
}
