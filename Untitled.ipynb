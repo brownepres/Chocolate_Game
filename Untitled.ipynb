{
 "cells": [
  {
   "cell_type": "code",
   "execution_count": 42,
   "id": "8de267ae",
   "metadata": {},
   "outputs": [],
   "source": [
    "import numpy as np\n",
    "import pandas as np\n",
    "import random"
   ]
  },
  {
   "cell_type": "code",
   "execution_count": 78,
   "id": "61ccb43a",
   "metadata": {},
   "outputs": [
    {
     "name": "stdout",
     "output_type": "stream",
     "text": [
      "[1, 1, 1, 1]\n",
      ".-.\n",
      "[1, 1, 1, 1]\n",
      ".-.\n",
      "[0, 0, 0, 0]\n",
      ".-.\n",
      "[1, 1, 1, 1]\n",
      ".-.\n",
      "[1, 1, 1, 0]\n",
      ".-.\n",
      "[0, 0, 0, 0]\n",
      ".-.\n",
      "[1, 1, 0, 0]\n",
      ".-.\n",
      "[1, 1, 0, 0]\n",
      ".-.\n",
      "[0, 0, 0, 0]\n",
      ".-.\n",
      "[1, 1, 0, 0]\n",
      ".-.\n",
      "[1, 0, 0, 0]\n",
      ".-.\n",
      "[0, 0, 0, 0]\n",
      ".-.\n"
     ]
    }
   ],
   "source": [
    "#csoki felépítése\n",
    "\n",
    "csoki = np.array([\n",
    "    [1, 1, 1, 1],\n",
    "    [1, 1, 1, 1],\n",
    "    [1, 1, 0, 0]\n",
    "])\n",
    "\n",
    "random_i = random.randint(0,2)\n",
    "random_j = random.randint(0,3)\n",
    "def lepes(csoki, random_i, random_j):\n",
    "    while random_i == 0 and random_j == 0:\n",
    "        random_i = random.randint(0,2)\n",
    "        random_j = random.randint(0,3)\n",
    "    while csoki[random_i][random_j] == 0:\n",
    "        random_i = random.randint(0,2)\n",
    "        random_j = random.randint(0,3)\n",
    "    for i in range(3):\n",
    "        if i < random_i:\n",
    "            pass\n",
    "        else: \n",
    "            for j in range(4):\n",
    "                if j < random_j:\n",
    "                    pass\n",
    "                else:\n",
    "                    csoki[i][j] = 0\n",
    "    return csoki\n",
    "        \n",
    "csoki_vege = np.array([\n",
    "    [1, 0, 0, 0],\n",
    "    [0, 0, 0, 0],\n",
    "    [0, 0, 0, 0]\n",
    "])\n",
    "\n",
    "for i in range(4):\n",
    "    lepes(csoki, random_i, random_j)\n",
    "    for j in csoki:\n",
    "        print(j)\n",
    "        "
   ]
  },
  {
   "cell_type": "code",
   "execution_count": 67,
   "id": "b830af0c",
   "metadata": {},
   "outputs": [
    {
     "name": "stdout",
     "output_type": "stream",
     "text": [
      "[1, 1, 1, 1]\n",
      "[1, 1, 1, 0]\n",
      "[1, 1, 1, 0]\n"
     ]
    }
   ],
   "source": []
  },
  {
   "cell_type": "code",
   "execution_count": null,
   "id": "612f2049",
   "metadata": {},
   "outputs": [],
   "source": []
  }
 ],
 "metadata": {
  "kernelspec": {
   "display_name": "Python 3 (ipykernel)",
   "language": "python",
   "name": "python3"
  },
  "language_info": {
   "codemirror_mode": {
    "name": "ipython",
    "version": 3
   },
   "file_extension": ".py",
   "mimetype": "text/x-python",
   "name": "python",
   "nbconvert_exporter": "python",
   "pygments_lexer": "ipython3",
   "version": "3.9.0"
  }
 },
 "nbformat": 4,
 "nbformat_minor": 5
}
