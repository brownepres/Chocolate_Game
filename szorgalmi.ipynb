{
 "cells": [
  {
   "cell_type": "code",
   "execution_count": 2,
   "id": "85101f43",
   "metadata": {},
   "outputs": [],
   "source": [
    "import numpy as np\n",
    "import pandas as np\n",
    "import random"
   ]
  },
  {
   "cell_type": "code",
   "execution_count": 272,
   "id": "efbcbcb2",
   "metadata": {},
   "outputs": [
    {
     "name": "stdout",
     "output_type": "stream",
     "text": [
      "{'00': [0, 0, -1.5000000000000013], '01': [0, 1, 1.540000000000001], '02': [0, 2, 0.0499999999999997], '03': [0, 3, 0.55], '10': [1, 0, 0.8000000000000003], '11': [1, 1, 0.6000000000000001], '12': [1, 2, 0.53], '13': [1, 3, 0.44999999999999996], '20': [2, 0, 0.2699999999999998], '21': [2, 1, 0.6300000000000001], '22': [2, 2, 0.47], '23': [2, 3, 0.55]}\n"
     ]
    }
   ],
   "source": [
    "#csoki felépítése\n",
    "\n",
    "csoki = np.array([\n",
    "    [1, 1, 1, 1],\n",
    "    [1, 1, 1, 1],\n",
    "    [1, 1, 1, 1]\n",
    "])\n",
    "\n",
    "lepesek = {\n",
    "    \"00\":[0,0,0.5],\n",
    "    \"01\":[0,1,0.5],\n",
    "    \"02\":[0,2,0.5],\n",
    "    \"03\":[0,3,0.5],\n",
    "    \"10\":[1,0,0.5],\n",
    "    \"11\":[1,1,0.5],\n",
    "    \"12\":[1,2,0.5],\n",
    "    \"13\":[1,3,0.5],\n",
    "    \"20\":[2,0,0.5],\n",
    "    \"21\":[2,1,0.5],\n",
    "    \"22\":[2,2,0.5],\n",
    "    \"23\":[2,3,0.5],\n",
    "}\n",
    "\n",
    "def lepes(csoki, lepesek):\n",
    "    GameOver = False\n",
    "    valasztott_lepes = random.choices(list(lepesek.keys()),\n",
    "                                  weights=[i[2] for i in lepesek.values()],\n",
    "                                      k=1)\n",
    "    lepes_i = lepesek[valasztott_lepes[0]][0]\n",
    "    lepes_j = lepesek[valasztott_lepes[0]][1]\n",
    "    \n",
    "    if csoki[0][1] == 0 and csoki[1][0] == 0:\n",
    "        GameOver = True\n",
    "        valasztott_lepes = ['00']\n",
    "        return csoki, GameOver, valasztott_lepes[0]\n",
    "    else:\n",
    "        while lepes_i == 0 and lepes_j == 0 or csoki[lepes_i][lepes_j] == 0:\n",
    "            valasztott_lepes = random.choices(list(lepesek.keys()),\n",
    "                                  weights=[i[2] for i in lepesek.values()],\n",
    "                                      k=1)\n",
    "            lepes_i = lepesek[valasztott_lepes[0]][0]\n",
    "            lepes_j = lepesek[valasztott_lepes[0]][1]\n",
    "\n",
    "        for i in range(3):\n",
    "            if i < lepes_i:\n",
    "                pass\n",
    "            else: \n",
    "                for j in range(4):\n",
    "                    if j < lepes_j:\n",
    "                        pass\n",
    "                    else:\n",
    "                        csoki[i][j] = 0\n",
    "        \n",
    "        return csoki, GameOver, valasztott_lepes[0]\n",
    "        \n",
    "\n",
    "for i in range(200):\n",
    "    GameOver = False\n",
    "    lepes_counter=0\n",
    "    paros_lepesek = []\n",
    "    ptl_lepesek  = []\n",
    "    \n",
    "    for j in range(len(lepesek)):\n",
    "        csoki, GameOver, jatekos_lepese = lepes(csoki, lepesek)\n",
    "        lepes_counter+=1\n",
    "        if lepes_counter % 2 == 0:\n",
    "            paros_lepesek.append(jatekos_lepese)\n",
    "        if lepes_counter % 2 == 1:\n",
    "            ptl_lepesek.append(jatekos_lepese)\n",
    "\n",
    "        if GameOver == True:\n",
    "            #print(\"Game Over. Lépések száma:\", lepes_counter)\n",
    "            break\n",
    "        #for k in csoki:\n",
    "            #print(k)\n",
    "            \n",
    "    if lepes_counter % 2 == 0: #páros lépésszámnál a páros lépészsámú játékos veszít\n",
    "        for l in paros_lepesek:\n",
    "            if l == len(paros_lepesek)-2:\n",
    "                break\n",
    "            else:\n",
    "                lepesek[l][2] -= 0.01\n",
    "        for l in ptl_lepesek:\n",
    "            lepesek[l][2] += 0.01\n",
    "    elif lepes_counter % 2 == 1: #páratlan lépésszámnál a páratlan lépésszámú játékos veszít\n",
    "        for l in paros_lepesek:\n",
    "            lepesek[l][2] += 0.01\n",
    "        for l in ptl_lepesek:\n",
    "            if l == len(ptl_lepesek)-2:\n",
    "                break\n",
    "            else:\n",
    "                lepesek[l][2] -= 0.01\n",
    "            \n",
    "    csoki = np.array([\n",
    "        [1, 1, 1, 1],\n",
    "        [1, 1, 1, 1],\n",
    "        [1, 1, 1, 1]\n",
    "    ])   \n",
    "        \n",
    "print(lepesek)"
   ]
  },
  {
   "cell_type": "code",
   "execution_count": 26,
   "id": "a0b78550",
   "metadata": {},
   "outputs": [
    {
     "name": "stdout",
     "output_type": "stream",
     "text": [
      "3\n"
     ]
    }
   ],
   "source": []
  },
  {
   "cell_type": "code",
   "execution_count": 207,
   "id": "568d381d",
   "metadata": {},
   "outputs": [
    {
     "name": "stdout",
     "output_type": "stream",
     "text": [
      "10\n"
     ]
    }
   ],
   "source": []
  },
  {
   "cell_type": "code",
   "execution_count": 273,
   "id": "b85212f8",
   "metadata": {},
   "outputs": [],
   "source": [
    "def ember_lepes(csoki, lepesek, ember_lepes_input):\n",
    "    GameOver = False\n",
    "    lepes_i = lepesek[ember_lepes_input][0]\n",
    "    lepes_j = lepesek[ember_lepes_input][1]\n",
    "    \n",
    "    if csoki[0][1] == 0 and csoki[1][0] == 0:\n",
    "        GameOver = True\n",
    "        valasztott_lepes = ['00']\n",
    "        return csoki, GameOver\n",
    "    else:\n",
    "        while lepes_i == 0 and lepes_j == 0 or csoki[lepes_i][lepes_j] == 0:\n",
    "            lepes_i = lepesek[ember_lepes_input][0]\n",
    "            lepes_j = lepesek[ember_lepes_input][1]\n",
    "\n",
    "        for i in range(3):\n",
    "            if i < lepes_i:\n",
    "                pass\n",
    "            else: \n",
    "                for j in range(4):\n",
    "                    if j < lepes_j:\n",
    "                        pass\n",
    "                    else:\n",
    "                        csoki[i][j] = 0\n",
    "        \n",
    "        return csoki, GameOver"
   ]
  },
  {
   "cell_type": "code",
   "execution_count": 274,
   "id": "2a5018d2",
   "metadata": {},
   "outputs": [
    {
     "name": "stdout",
     "output_type": "stream",
     "text": [
      "Adj meg egy lépést01\n",
      "Te lépésed\n",
      "[1, 0, 0, 0]\n",
      "[1, 0, 0, 0]\n",
      "[1, 0, 0, 0]\n",
      "Gép lépése:\n",
      "[1, 0, 0, 0]\n",
      "[0, 0, 0, 0]\n",
      "[0, 0, 0, 0]\n",
      "Adj meg egy lépést00\n",
      "Te lépésed\n",
      "[1, 0, 0, 0]\n",
      "[0, 0, 0, 0]\n",
      "[0, 0, 0, 0]\n",
      "Vesztettél\n"
     ]
    }
   ],
   "source": [
    "#ember játéka a gép ellen\n",
    "csoki = np.array([\n",
    "    [1, 1, 1, 1],\n",
    "    [1, 1, 1, 1],\n",
    "    [1, 1, 1, 1]\n",
    "])\n",
    "\n",
    "jatek_counter = 0\n",
    "GameOver = False\n",
    "while GameOver == False:\n",
    "    if jatek_counter % 2 == 0:\n",
    "        ember_lepes_input = str(input(\"Adj meg egy lépést\"))\n",
    "        csoki, GameOver = ember_lepes(csoki, lepesek, ember_lepes_input)\n",
    "        print(\"Te lépésed\")\n",
    "        for i in csoki:\n",
    "            print(i)\n",
    "        if GameOver == True:\n",
    "            print(\"Vesztettél\")\n",
    "        jatek_counter += 1\n",
    "    elif jatek_counter % 2 == 1:\n",
    "        csoki, GameOver, jatekos_lepese = lepes(csoki, lepesek)\n",
    "        print(\"Gép lépése:\")\n",
    "        for i in csoki:\n",
    "            print(i)\n",
    "        if GameOver == True:\n",
    "            print(\"Nyertél\")\n",
    "        jatek_counter += 1"
   ]
  },
  {
   "cell_type": "code",
   "execution_count": 235,
   "id": "0d77b29a",
   "metadata": {},
   "outputs": [
    {
     "name": "stdout",
     "output_type": "stream",
     "text": [
      "Adj meg egy lépést02\n",
      "2\n"
     ]
    }
   ],
   "source": []
  }
 ],
 "metadata": {
  "kernelspec": {
   "display_name": "Python 3 (ipykernel)",
   "language": "python",
   "name": "python3"
  },
  "language_info": {
   "codemirror_mode": {
    "name": "ipython",
    "version": 3
   },
   "file_extension": ".py",
   "mimetype": "text/x-python",
   "name": "python",
   "nbconvert_exporter": "python",
   "pygments_lexer": "ipython3",
   "version": "3.9.0"
  }
 },
 "nbformat": 4,
 "nbformat_minor": 5
}
